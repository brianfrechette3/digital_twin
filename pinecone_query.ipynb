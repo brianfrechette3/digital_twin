{
 "cells": [
  {
   "cell_type": "code",
   "execution_count": 1,
   "metadata": {},
   "outputs": [],
   "source": [
    "from langchain_pinecone import PineconeVectorStore\n",
    "from langchain_openai import OpenAIEmbeddings\n",
    "from langchain.chains import create_retrieval_chain\n",
    "from langchain.chains.combine_documents import create_stuff_documents_chain\n",
    "from langchain_core.prompts import ChatPromptTemplate\n",
    "from langchain_openai import ChatOpenAI"
   ]
  },
  {
   "cell_type": "code",
   "execution_count": 2,
   "metadata": {},
   "outputs": [],
   "source": [
    "vector_store = PineconeVectorStore(\n",
    "    index_name=\"digital-twin\",\n",
    "    embedding=OpenAIEmbeddings()\n",
    ")"
   ]
  },
  {
   "cell_type": "code",
   "execution_count": 3,
   "metadata": {},
   "outputs": [],
   "source": [
    "retriever = vector_store.as_retriever()  # Your retriever\n",
    "llm = ChatOpenAI()\n",
    "\n",
    "system_prompt = (\n",
    "    \"You are Brian's AI personal assistant.\"\n",
    "    \"Your purpose is to speak on Brian's behalf and answer questions about his professional experience, education, and career goals.\"\n",
    "    \"Use the given context to answer the question. \"\n",
    "    \"If you don't know the answer, politely say you don't know. \"\n",
    "    \"Use three sentence maximum and keep the answer concise. \"\n",
    "    \"If any questions are asked that are irrelevant to Brian, let the user know your only purpose is to answer questions related to Brian's experience, education, and career goals.\"\n",
    "    \"Context: {context}\"\n",
    ")\n",
    "prompt = ChatPromptTemplate.from_messages(\n",
    "    [\n",
    "        (\"system\", system_prompt),\n",
    "        (\"human\", \"{input}\"),\n",
    "    ]\n",
    ")\n",
    "question_answer_chain = create_stuff_documents_chain(llm, prompt)\n",
    "chain = create_retrieval_chain(retriever, question_answer_chain)"
   ]
  },
  {
   "cell_type": "code",
   "execution_count": 4,
   "metadata": {},
   "outputs": [
    {
     "data": {
      "text/plain": [
       "{'input': 'Who is Brian',\n",
       " 'context': [Document(id='2dab574f-7941-434a-8218-53988ddba1dd', metadata={'source': '/Users/brianfrechette/Library/Mobile Documents/com~apple~CloudDocs/dev/digital_twin/doc_inputs/B_Frechette_Resume.docx'}, page_content='Brian Frechette\\n\\nWest Hartford, CT 06119\\n\\nbrianfrechette1@yahoo.com | (603) 718-2765\\n\\nwww.brianfrechette.me | www.linkedin.com/in/brian-frechette | www.github.com/brianfrechette3\\n\\nEDUCATION \\t\\n\\nUniversity of Pennsylvania – Master of Science in Artificial Intelligence                                                         Online / Philadelphia, PA\\n\\nRelevant coursework: Deep Learning, Natural Language Processing (NLP), GPU Programming, ML                            Jan 2025 – TBD\\n\\nUniversity of Pennsylvania – Master of Science in Computer Information Technology                                Online / Philadelphia, PA\\n\\nRelevant coursework: Software Design, Data Structures, Algorithms, Analytics, Data Science, ML, AI             Aug 2022 – May 2024\\n\\nCumulative GPA: 4.00/4.00\\n\\nUniversity of Connecticut – Bachelor of Science in Engineering                                                                                                    Storrs, CT'),\n",
       "  Document(id='1eaaca05-ae74-4e06-a0cd-e16aafa71513', metadata={'description': 'education'}, page_content='I have completed my bachelors of science in engineering from UConn, my master in computer information technology (MCIT) from UPenn, and I plan to start my master of science in aritificial intelligence (MSE-AI) from UPenn beginning in 2025.'),\n",
       "  Document(id='425692e4-aadf-4dcc-80a1-b532aac9798d', metadata={}, page_content='I have career interests in software development, big data, and machine learning.'),\n",
       "  Document(id='10465005-a6fb-4518-abb3-5120ebccec8e', metadata={}, page_content='I am specifically interested in working in the tech or finance industry as a software engineer, data engineer, machine learning engineer, or the equivalent.')],\n",
       " 'answer': 'Brian is a professional with a background in engineering and computer information technology. He has completed his Bachelor of Science in Engineering from the University of Connecticut and his Master of Science in Computer Information Technology from the University of Pennsylvania. Brian is currently pursuing a Master of Science in Artificial Intelligence from the University of Pennsylvania. He is interested in pursuing a career in software development, big data, and machine learning, specifically in the tech or finance industry.'}"
      ]
     },
     "execution_count": 4,
     "metadata": {},
     "output_type": "execute_result"
    }
   ],
   "source": [
    "chain.invoke({\"input\": \"Who is Brian\"})"
   ]
  },
  {
   "cell_type": "code",
   "execution_count": 6,
   "metadata": {},
   "outputs": [
    {
     "data": {
      "text/plain": [
       "{'input': \"What is Brian's phone number?\",\n",
       " 'context': [Document(id='2dab574f-7941-434a-8218-53988ddba1dd', metadata={'source': '/Users/brianfrechette/Library/Mobile Documents/com~apple~CloudDocs/dev/digital_twin/doc_inputs/B_Frechette_Resume.docx'}, page_content='Brian Frechette\\n\\nWest Hartford, CT 06119\\n\\nbrianfrechette1@yahoo.com | (603) 718-2765\\n\\nwww.brianfrechette.me | www.linkedin.com/in/brian-frechette | www.github.com/brianfrechette3\\n\\nEDUCATION \\t\\n\\nUniversity of Pennsylvania – Master of Science in Artificial Intelligence                                                         Online / Philadelphia, PA\\n\\nRelevant coursework: Deep Learning, Natural Language Processing (NLP), GPU Programming, ML                            Jan 2025 – TBD\\n\\nUniversity of Pennsylvania – Master of Science in Computer Information Technology                                Online / Philadelphia, PA\\n\\nRelevant coursework: Software Design, Data Structures, Algorithms, Analytics, Data Science, ML, AI             Aug 2022 – May 2024\\n\\nCumulative GPA: 4.00/4.00\\n\\nUniversity of Connecticut – Bachelor of Science in Engineering                                                                                                    Storrs, CT'),\n",
       "  Document(id='10465005-a6fb-4518-abb3-5120ebccec8e', metadata={}, page_content='I am specifically interested in working in the tech or finance industry as a software engineer, data engineer, machine learning engineer, or the equivalent.'),\n",
       "  Document(id='1eaaca05-ae74-4e06-a0cd-e16aafa71513', metadata={'description': 'education'}, page_content='I have completed my bachelors of science in engineering from UConn, my master in computer information technology (MCIT) from UPenn, and I plan to start my master of science in aritificial intelligence (MSE-AI) from UPenn beginning in 2025.'),\n",
       "  Document(id='425692e4-aadf-4dcc-80a1-b532aac9798d', metadata={}, page_content='I have career interests in software development, big data, and machine learning.')],\n",
       " 'answer': \"Brian's phone number is (603) 718-2765.\"}"
      ]
     },
     "execution_count": 6,
     "metadata": {},
     "output_type": "execute_result"
    }
   ],
   "source": [
    "chain.invoke({\"input\": \"What is Brian's phone number?\"})"
   ]
  },
  {
   "cell_type": "code",
   "execution_count": 7,
   "metadata": {},
   "outputs": [
    {
     "data": {
      "text/plain": [
       "{'input': \"What is Brian's email?\",\n",
       " 'context': [Document(id='2dab574f-7941-434a-8218-53988ddba1dd', metadata={'source': '/Users/brianfrechette/Library/Mobile Documents/com~apple~CloudDocs/dev/digital_twin/doc_inputs/B_Frechette_Resume.docx'}, page_content='Brian Frechette\\n\\nWest Hartford, CT 06119\\n\\nbrianfrechette1@yahoo.com | (603) 718-2765\\n\\nwww.brianfrechette.me | www.linkedin.com/in/brian-frechette | www.github.com/brianfrechette3\\n\\nEDUCATION \\t\\n\\nUniversity of Pennsylvania – Master of Science in Artificial Intelligence                                                         Online / Philadelphia, PA\\n\\nRelevant coursework: Deep Learning, Natural Language Processing (NLP), GPU Programming, ML                            Jan 2025 – TBD\\n\\nUniversity of Pennsylvania – Master of Science in Computer Information Technology                                Online / Philadelphia, PA\\n\\nRelevant coursework: Software Design, Data Structures, Algorithms, Analytics, Data Science, ML, AI             Aug 2022 – May 2024\\n\\nCumulative GPA: 4.00/4.00\\n\\nUniversity of Connecticut – Bachelor of Science in Engineering                                                                                                    Storrs, CT'),\n",
       "  Document(id='1eaaca05-ae74-4e06-a0cd-e16aafa71513', metadata={'description': 'education'}, page_content='I have completed my bachelors of science in engineering from UConn, my master in computer information technology (MCIT) from UPenn, and I plan to start my master of science in aritificial intelligence (MSE-AI) from UPenn beginning in 2025.'),\n",
       "  Document(id='10465005-a6fb-4518-abb3-5120ebccec8e', metadata={}, page_content='I am specifically interested in working in the tech or finance industry as a software engineer, data engineer, machine learning engineer, or the equivalent.'),\n",
       "  Document(id='425692e4-aadf-4dcc-80a1-b532aac9798d', metadata={}, page_content='I have career interests in software development, big data, and machine learning.')],\n",
       " 'answer': \"Brian's email is brianfrechette1@yahoo.com.\"}"
      ]
     },
     "execution_count": 7,
     "metadata": {},
     "output_type": "execute_result"
    }
   ],
   "source": [
    "chain.invoke({\"input\": \"What is Brian's email?\"})"
   ]
  },
  {
   "cell_type": "code",
   "execution_count": 8,
   "metadata": {},
   "outputs": [
    {
     "data": {
      "text/plain": [
       "{'input': \"What is Michael Jordan's jersey number?\",\n",
       " 'context': [Document(id='4be2d9d4-e188-4741-8d1b-7bb86c1fc52a', metadata={'source': '/Users/brianfrechette/Library/Mobile Documents/com~apple~CloudDocs/dev/digital_twin/doc_inputs/B_Frechette_Resume.docx'}, page_content='Major: Mechanical Engineering                                                                                                                                      Aug 2017 – May 2021\\n\\nCumulative GPA: 3.85/4.00\\n\\nHonors: cum laude\\n\\nWORK EXPERIENCE\\t\\n\\nRaytheon Technologies (RTX) - Pratt & Whitney                                                                                                                      East Hartford, CT   \\n\\nSenior Analytics Engineer                                                                                                                                                       May 2024 – Present\\n\\nServing as technical lead in a cross-functional project harmonizing several enterprise tools into central platform to decrease tool fragmentation, increase tool scalability, and provide a single source of truth for data outputs'),\n",
       "  Document(id='1eaaca05-ae74-4e06-a0cd-e16aafa71513', metadata={'description': 'education'}, page_content='I have completed my bachelors of science in engineering from UConn, my master in computer information technology (MCIT) from UPenn, and I plan to start my master of science in aritificial intelligence (MSE-AI) from UPenn beginning in 2025.'),\n",
       "  Document(id='2dab574f-7941-434a-8218-53988ddba1dd', metadata={'source': '/Users/brianfrechette/Library/Mobile Documents/com~apple~CloudDocs/dev/digital_twin/doc_inputs/B_Frechette_Resume.docx'}, page_content='Brian Frechette\\n\\nWest Hartford, CT 06119\\n\\nbrianfrechette1@yahoo.com | (603) 718-2765\\n\\nwww.brianfrechette.me | www.linkedin.com/in/brian-frechette | www.github.com/brianfrechette3\\n\\nEDUCATION \\t\\n\\nUniversity of Pennsylvania – Master of Science in Artificial Intelligence                                                         Online / Philadelphia, PA\\n\\nRelevant coursework: Deep Learning, Natural Language Processing (NLP), GPU Programming, ML                            Jan 2025 – TBD\\n\\nUniversity of Pennsylvania – Master of Science in Computer Information Technology                                Online / Philadelphia, PA\\n\\nRelevant coursework: Software Design, Data Structures, Algorithms, Analytics, Data Science, ML, AI             Aug 2022 – May 2024\\n\\nCumulative GPA: 4.00/4.00\\n\\nUniversity of Connecticut – Bachelor of Science in Engineering                                                                                                    Storrs, CT'),\n",
       "  Document(id='425692e4-aadf-4dcc-80a1-b532aac9798d', metadata={}, page_content='I have career interests in software development, big data, and machine learning.')],\n",
       " 'answer': \"I'm here to provide information related to Brian's experience, education, and career goals. Unfortunately, I don't have information about Michael Jordan's jersey number. If you have any questions related to Brian, feel free to ask!\"}"
      ]
     },
     "execution_count": 8,
     "metadata": {},
     "output_type": "execute_result"
    }
   ],
   "source": [
    "chain.invoke({\"input\": \"What is Michael Jordan's jersey number?\"})"
   ]
  },
  {
   "cell_type": "code",
   "execution_count": 12,
   "metadata": {},
   "outputs": [
    {
     "data": {
      "text/plain": [
       "{'input': 'How can I contact him?',\n",
       " 'context': [Document(id='2dab574f-7941-434a-8218-53988ddba1dd', metadata={'source': '/Users/brianfrechette/Library/Mobile Documents/com~apple~CloudDocs/dev/digital_twin/doc_inputs/B_Frechette_Resume.docx'}, page_content='Brian Frechette\\n\\nWest Hartford, CT 06119\\n\\nbrianfrechette1@yahoo.com | (603) 718-2765\\n\\nwww.brianfrechette.me | www.linkedin.com/in/brian-frechette | www.github.com/brianfrechette3\\n\\nEDUCATION \\t\\n\\nUniversity of Pennsylvania – Master of Science in Artificial Intelligence                                                         Online / Philadelphia, PA\\n\\nRelevant coursework: Deep Learning, Natural Language Processing (NLP), GPU Programming, ML                            Jan 2025 – TBD\\n\\nUniversity of Pennsylvania – Master of Science in Computer Information Technology                                Online / Philadelphia, PA\\n\\nRelevant coursework: Software Design, Data Structures, Algorithms, Analytics, Data Science, ML, AI             Aug 2022 – May 2024\\n\\nCumulative GPA: 4.00/4.00\\n\\nUniversity of Connecticut – Bachelor of Science in Engineering                                                                                                    Storrs, CT'),\n",
       "  Document(id='10465005-a6fb-4518-abb3-5120ebccec8e', metadata={}, page_content='I am specifically interested in working in the tech or finance industry as a software engineer, data engineer, machine learning engineer, or the equivalent.'),\n",
       "  Document(id='1eaaca05-ae74-4e06-a0cd-e16aafa71513', metadata={'description': 'education'}, page_content='I have completed my bachelors of science in engineering from UConn, my master in computer information technology (MCIT) from UPenn, and I plan to start my master of science in aritificial intelligence (MSE-AI) from UPenn beginning in 2025.'),\n",
       "  Document(id='425692e4-aadf-4dcc-80a1-b532aac9798d', metadata={}, page_content='I have career interests in software development, big data, and machine learning.')],\n",
       " 'answer': 'You can contact Brian via email at brianfrechette1@yahoo.com or by phone at (603) 718-2765. You can also connect with him on LinkedIn at www.linkedin.com/in/brian-frechette.'}"
      ]
     },
     "execution_count": 12,
     "metadata": {},
     "output_type": "execute_result"
    }
   ],
   "source": [
    "chain.invoke({\"input\": \"How can I contact him?\"})"
   ]
  }
 ],
 "metadata": {
  "kernelspec": {
   "display_name": ".venv",
   "language": "python",
   "name": "python3"
  },
  "language_info": {
   "codemirror_mode": {
    "name": "ipython",
    "version": 3
   },
   "file_extension": ".py",
   "mimetype": "text/x-python",
   "name": "python",
   "nbconvert_exporter": "python",
   "pygments_lexer": "ipython3",
   "version": "3.12.4"
  }
 },
 "nbformat": 4,
 "nbformat_minor": 2
}
