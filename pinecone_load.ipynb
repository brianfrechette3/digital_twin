{
 "cells": [
  {
   "cell_type": "code",
   "execution_count": 1,
   "metadata": {},
   "outputs": [],
   "source": [
    "import os\n",
    "from dotenv import load_dotenv\n",
    "import time\n",
    "from pinecone.grpc import PineconeGRPC as Pinecone\n",
    "from pinecone import ServerlessSpec\n",
    "from langchain_openai import OpenAIEmbeddings\n",
    "from langchain_community.document_loaders import DirectoryLoader\n",
    "from langchain_text_splitters import CharacterTextSplitter\n",
    "from langchain_pinecone import PineconeVectorStore"
   ]
  },
  {
   "cell_type": "markdown",
   "metadata": {},
   "source": [
    "### Initialize Pinecone client, create index, load + chunk docs, upsert docs"
   ]
  },
  {
   "cell_type": "code",
   "execution_count": null,
   "metadata": {},
   "outputs": [],
   "source": [
    "# Client configuration details\n",
    "pinecone_conn = Pinecone(api_key=os.environ.get(\"PINECONE_API_KEY\"))\n",
    "spec = ServerlessSpec(cloud='aws', region='us-east-1')\n",
    "\n",
    "# Manually get existing index names - TODO: Check if method has been added for this, was getting error trying to use .has_index()\n",
    "index_names = [index[\"name\"] for index in pinecone_conn.list_indexes()]\n",
    "\n",
    "# Create new index\n",
    "index_name = \"digital-twin\"\n",
    "if index_name in index_names:\n",
    "    pinecone_conn.delete_index(index_name)\n",
    "\n",
    "pinecone_conn.create_index(\n",
    "    index_name,\n",
    "    dimension=1536,  # Dimensionality of text-embedding-ada-002 (OpenAI)\n",
    "    metric='dotproduct',\n",
    "    spec=spec\n",
    ")\n",
    "\n",
    "# Wait for index to be created\n",
    "while not pinecone_conn.describe_index(index_name).status[\"ready\"]:\n",
    "    time.sleep(1)\n",
    "\n",
    "# Load all input docs into memory\n",
    "loader = DirectoryLoader(\n",
    "    \"/Users/brianfrechette/Library/Mobile Documents/com~apple~CloudDocs/dev/digital_twin/doc_inputs\",\n",
    "    glob=\"*.docx\",\n",
    "    show_progress=True\n",
    ")\n",
    "docs = loader.load()\n",
    "\n",
    "# Chunk documents before upserting\n",
    "text_splitter = CharacterTextSplitter(chunk_size=1000, chunk_overlap=0)\n",
    "docs_chunked = text_splitter.split_documents(docs)\n",
    "\n",
    "# Initialize pinecone vector store by adding chunked docs to the index\n",
    "vector_store_from_docs = PineconeVectorStore.from_documents(\n",
    "    docs_chunked,\n",
    "    index_name=index_name,\n",
    "    embedding=OpenAIEmbeddings()\n",
    ")"
   ]
  }
 ],
 "metadata": {
  "interpreter": {
   "hash": "9eadad9978e1a81f97c233dbdb8845ad19aeb63b6851879d2b13cc93bce333c2"
  },
  "kernelspec": {
   "display_name": "Python 3.9.12 ('base')",
   "language": "python",
   "name": "python3"
  },
  "language_info": {
   "codemirror_mode": {
    "name": "ipython",
    "version": 3
   },
   "file_extension": ".py",
   "mimetype": "text/x-python",
   "name": "python",
   "nbconvert_exporter": "python",
   "pygments_lexer": "ipython3",
   "version": "3.9.12"
  },
  "orig_nbformat": 4
 },
 "nbformat": 4,
 "nbformat_minor": 2
}
