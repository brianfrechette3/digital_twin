{
 "cells": [
  {
   "cell_type": "code",
   "execution_count": null,
   "metadata": {},
   "outputs": [],
   "source": [
    "# Following tutorial here: https://prashanth08.medium.com/building-your-retrieval-augmented-generation-rag-for-custom-llms-d5f95ed5ed7a"
   ]
  },
  {
   "cell_type": "code",
   "execution_count": 3,
   "metadata": {},
   "outputs": [
    {
     "data": {
      "text/plain": [
       "True"
      ]
     },
     "execution_count": 3,
     "metadata": {},
     "output_type": "execute_result"
    }
   ],
   "source": [
    "from dotenv import load_dotenv\n",
    "import os\n",
    "load_dotenv()"
   ]
  },
  {
   "cell_type": "code",
   "execution_count": null,
   "metadata": {},
   "outputs": [],
   "source": [
    "import openai\n",
    "openai.api_key = os.environ.get(\"OPENAI_API_KEY\")\n",
    "from llama_index.core import SimpleDirectoryReader, GPTVectorStoreIndex"
   ]
  },
  {
   "cell_type": "code",
   "execution_count": null,
   "metadata": {},
   "outputs": [],
   "source": [
    "openai.api_key = os.environ.get(\"OPENAI_API_KEY\")"
   ]
  },
  {
   "cell_type": "code",
   "execution_count": null,
   "metadata": {},
   "outputs": [],
   "source": [
    "reader = SimpleDirectoryReader(\"/Users/brianfrechette/Library/Mobile Documents/com~apple~CloudDocs/dev/digital_twin/llm_rag_intro\")"
   ]
  },
  {
   "cell_type": "code",
   "execution_count": null,
   "metadata": {},
   "outputs": [],
   "source": [
    "index = GPTVectorStoreIndex.from_documents(reader.load_data())"
   ]
  },
  {
   "cell_type": "code",
   "execution_count": null,
   "metadata": {},
   "outputs": [],
   "source": [
    "query_engine = index.as_query_engine(similarity_top_k=3)"
   ]
  },
  {
   "cell_type": "code",
   "execution_count": null,
   "metadata": {},
   "outputs": [],
   "source": [
    "query = \"Who is Brian?\""
   ]
  },
  {
   "cell_type": "code",
   "execution_count": null,
   "metadata": {},
   "outputs": [],
   "source": [
    "response = query_engine.query(query)\n",
    "print(response)"
   ]
  },
  {
   "cell_type": "markdown",
   "metadata": {},
   "source": [
    "## Pinecone as vector store, OpenAI as embedding model, Langchain as framework"
   ]
  },
  {
   "cell_type": "markdown",
   "metadata": {},
   "source": [
    "### First, let's create Pinecone index"
   ]
  },
  {
   "cell_type": "code",
   "execution_count": 11,
   "metadata": {},
   "outputs": [],
   "source": [
    "from pinecone.grpc import PineconeGRPC as Pinecone\n",
    "from pinecone import ServerlessSpec"
   ]
  },
  {
   "cell_type": "code",
   "execution_count": 2,
   "metadata": {},
   "outputs": [],
   "source": [
    "import time"
   ]
  },
  {
   "cell_type": "code",
   "execution_count": 5,
   "metadata": {},
   "outputs": [],
   "source": [
    "# Client configuration details\n",
    "pinecone_conn = Pinecone(api_key=os.environ.get(\"PINECONE_API_KEY\"))\n",
    "spec = ServerlessSpec(cloud='aws', region='us-east-1')"
   ]
  },
  {
   "cell_type": "code",
   "execution_count": 21,
   "metadata": {},
   "outputs": [
    {
     "data": {
      "text/plain": [
       "['digital-twin']"
      ]
     },
     "execution_count": 21,
     "metadata": {},
     "output_type": "execute_result"
    }
   ],
   "source": [
    "index_names = [index[\"name\"] for index in pinecone_conn.list_indexes()]\n",
    "index_names "
   ]
  },
  {
   "cell_type": "code",
   "execution_count": 22,
   "metadata": {},
   "outputs": [],
   "source": [
    "# Check and delete any pre-existing indexes with the same name\n",
    "index_name = \"digital-twin\"\n",
    "# if pinecone_conn.has_index(index_name):  --> Getting error: AttributeError: 'PineconeGRPC' object has no attribute 'has_index'\n",
    "if index_name in index_names:\n",
    "    pinecone_conn.delete_index(index_name)\n",
    "\n",
    "# Creating a new index (so that langchain can connect and upsert docs)\n",
    "pinecone_conn.create_index(\n",
    "    index_name,\n",
    "    dimension=1536, # dimensionality of text-embedding-ada-002\n",
    "    metric='dotproduct',\n",
    "    spec=spec\n",
    ")\n",
    "\n",
    "while not pinecone_conn.describe_index(index_name).status['ready']:\n",
    "    time.sleep(1)"
   ]
  },
  {
   "cell_type": "code",
   "execution_count": 7,
   "metadata": {},
   "outputs": [
    {
     "data": {
      "text/plain": [
       "{'dimension': 1536,\n",
       " 'index_fullness': 0.0,\n",
       " 'namespaces': {'': {'vector_count': 0}},\n",
       " 'total_vector_count': 0}"
      ]
     },
     "execution_count": 7,
     "metadata": {},
     "output_type": "execute_result"
    }
   ],
   "source": [
    "index = pinecone_conn.Index(index_name)\n",
    "index.describe_index_stats()"
   ]
  },
  {
   "cell_type": "markdown",
   "metadata": {},
   "source": [
    "### Next, let's connect the pinecone db to a langchain vector store to chunk and add docs"
   ]
  },
  {
   "cell_type": "code",
   "execution_count": 1,
   "metadata": {},
   "outputs": [],
   "source": [
    "from langchain_openai import OpenAIEmbeddings\n",
    "from langchain_community.document_loaders import DirectoryLoader\n",
    "from langchain_text_splitters import CharacterTextSplitter\n",
    "from langchain_pinecone import PineconeVectorStore"
   ]
  },
  {
   "cell_type": "code",
   "execution_count": 24,
   "metadata": {},
   "outputs": [
    {
     "name": "stderr",
     "output_type": "stream",
     "text": [
      "100%|██████████| 1/1 [00:00<00:00, 13.36it/s]\n"
     ]
    },
    {
     "data": {
      "text/plain": [
       "1"
      ]
     },
     "execution_count": 24,
     "metadata": {},
     "output_type": "execute_result"
    }
   ],
   "source": [
    "# Instantiate DirectoryLoader object to load inputs docs to be upserted to pinecone vector store\n",
    "loader = DirectoryLoader(\n",
    "    \"/Users/brianfrechette/Library/Mobile Documents/com~apple~CloudDocs/dev/digital_twin/llm_rag_intro\",\n",
    "    glob=\"*.docx\",\n",
    "    show_progress=True\n",
    ")\n",
    "docs = loader.load()\n",
    "len(docs)"
   ]
  },
  {
   "cell_type": "code",
   "execution_count": 25,
   "metadata": {},
   "outputs": [
    {
     "data": {
      "text/plain": [
       "6"
      ]
     },
     "execution_count": 25,
     "metadata": {},
     "output_type": "execute_result"
    }
   ],
   "source": [
    "# Chunk documents\n",
    "text_splitter = CharacterTextSplitter(chunk_size=1000, chunk_overlap=0)\n",
    "docs_chunked = text_splitter.split_documents(docs)\n",
    "len(docs_chunked)"
   ]
  },
  {
   "cell_type": "code",
   "execution_count": 26,
   "metadata": {},
   "outputs": [],
   "source": [
    "embeddings = OpenAIEmbeddings()"
   ]
  },
  {
   "cell_type": "code",
   "execution_count": 27,
   "metadata": {},
   "outputs": [],
   "source": [
    "# Initialize pinecone vector store by adding docs to the index\n",
    "vector_store_from_docs = PineconeVectorStore.from_documents(\n",
    "    docs_chunked,\n",
    "    index_name=index_name,\n",
    "    embedding=embeddings\n",
    ")"
   ]
  },
  {
   "cell_type": "code",
   "execution_count": 12,
   "metadata": {},
   "outputs": [],
   "source": [
    "pinecone_conn = Pinecone(api_key=os.environ.get(\"PINECONE_API_KEY\"))"
   ]
  },
  {
   "cell_type": "code",
   "execution_count": 17,
   "metadata": {},
   "outputs": [],
   "source": [
    "vector_store_from_docs = PineconeVectorStore(\n",
    "    index_name=\"digital-twin\",\n",
    "    embedding=OpenAIEmbeddings()\n",
    ")"
   ]
  },
  {
   "cell_type": "code",
   "execution_count": 32,
   "metadata": {},
   "outputs": [
    {
     "data": {
      "text/plain": [
       "['7e7c1bdf-acfc-4fca-aff5-10b459db0a39',\n",
       " 'ecd96f2a-3213-4310-8b32-3e41e747afb9',\n",
       " 'c656c18a-aa6b-4458-956c-8687cebe1622',\n",
       " '5751a02c-a433-49e3-be5b-a56f2496d511',\n",
       " '68ea448c-dbdf-482b-a4ca-c0ec6216adf0',\n",
       " '1b75b83a-79d8-4504-a5ab-4c3523887789']"
      ]
     },
     "execution_count": 32,
     "metadata": {},
     "output_type": "execute_result"
    }
   ],
   "source": [
    "# vector_store_from_docs.add_documents(\n",
    "#     docs_chunked,\n",
    "#     index_name=index_name,\n",
    "#     embedding=\"text-embedding-ada-002\"\n",
    "# )"
   ]
  },
  {
   "cell_type": "code",
   "execution_count": 34,
   "metadata": {},
   "outputs": [],
   "source": [
    "# vector_store_from_docs.delete(ids=[\"0fbbadc6-7e58-4b86-8c14-383759bcf059\"])"
   ]
  },
  {
   "cell_type": "code",
   "execution_count": 18,
   "metadata": {},
   "outputs": [
    {
     "data": {
      "text/plain": [
       "[Document(id='7e7c1bdf-acfc-4fca-aff5-10b459db0a39', metadata={'source': '/Users/brianfrechette/Library/Mobile Documents/com~apple~CloudDocs/dev/digital_twin/llm_rag_intro/B_Frechette_Resume.docx'}, page_content='Brian Frechette\\n\\nWest Hartford, CT 06119\\n\\nbrianfrechette1@yahoo.com | (603) 718-2765\\n\\nwww.brianfrechette.me | www.linkedin.com/in/brian-frechette | www.github.com/brianfrechette3\\n\\nEDUCATION\\n\\nUniversity of Pennsylvania – Master of Science in Artificial Intelligence                                                         Online / Philadelphia, PA\\n\\nRelevant coursework: Deep Learning, Natural Language Processing (NLP), GPU Programming, ML                            Jan 2025 – TBD\\n\\nUniversity of Pennsylvania – Master of Science in Computer Information Technology                                Online / Philadelphia, PA\\n\\nRelevant coursework: Software Design, Data Structures, Algorithms, Analytics, Data Science, ML, AI             Aug 2022 – May 2024\\n\\nCumulative GPA: 4.00/4.00\\n\\nUniversity of Connecticut – Bachelor of Science in Engineering                                                                                                    Storrs, CT'),\n",
       " Document(id='ecd96f2a-3213-4310-8b32-3e41e747afb9', metadata={'source': '/Users/brianfrechette/Library/Mobile Documents/com~apple~CloudDocs/dev/digital_twin/llm_rag_intro/B_Frechette_Resume.docx'}, page_content='Major: Mechanical Engineering                                                                                                                                      Aug 2017 – May 2021\\n\\nCumulative GPA: 3.85/4.00\\n\\nHonors: cum laude\\n\\nWORK EXPERIENCE\\n\\nRaytheon Technologies (RTX) - Pratt & Whitney                                                                                                                      East Hartford, CT\\n\\nSenior Analytics Engineer                                                                                                                                                       May 2024 – Present\\n\\nServing as technical lead in a cross-functional project harmonizing several enterprise tools into central platform to decrease tool fragmentation, increase tool scalability, and provide a single source of truth for data outputs'),\n",
       " Document(id='68ea448c-dbdf-482b-a4ca-c0ec6216adf0', metadata={'source': '/Users/brianfrechette/Library/Mobile Documents/com~apple~CloudDocs/dev/digital_twin/llm_rag_intro/B_Frechette_Resume.docx'}, page_content='Developed thermal system models using Engineering Equation Solver (EES) to design and analyze legacy and prototype environmental control systems (ECS) in response to new business requests (RFP, RFQ, RFI)\\n\\nWrangled performance analysis data and generated relevant data visualizations to highlight stakeholders’ key interests\\n\\nCommunicated with external stakeholders to clarify requirements and present current status and final output\\n\\nPROJECTS & ONLINE COURSES\\n\\nMachine Learning Project – Predicting Mortality Rate                                                                                            Personal Project – Kaggle\\n\\nCountry Health Nutrition and Population Dataset.                                                                                                                             April 2024\\n\\nPerformed exploratory data analysis (EDA) to examine data format, data quality, and available features using pandas library'),\n",
       " Document(id='c656c18a-aa6b-4458-956c-8687cebe1622', metadata={'source': '/Users/brianfrechette/Library/Mobile Documents/com~apple~CloudDocs/dev/digital_twin/llm_rag_intro/B_Frechette_Resume.docx'}, page_content='Analytics Engineer II                                                                                                                                                              Jun 2023 – May 2024\\n\\nTrained a random forest machine learning model to predict engine shop visit cost with 90% accuracy for use in maximizing revenue over engine contract\\n\\nRefactored app’s ETL process to reduce runtime by 98% by identifying and replacing inefficient Python code with SQL\\n\\nPerformed engine failure time analysis by fitting field data to Weibull probability distributions to assess engine design improvements relative to their expectation\\n\\nAnalytics Engineer I                                                                                                                                                       Oct 2022 – Jun 2023')]"
      ]
     },
     "execution_count": 18,
     "metadata": {},
     "output_type": "execute_result"
    }
   ],
   "source": [
    "# Test querying the vector db\n",
    "query = \"What experience does Brian have?\"\n",
    "vector_store_from_docs.similarity_search(query)"
   ]
  },
  {
   "cell_type": "code",
   "execution_count": 36,
   "metadata": {},
   "outputs": [
    {
     "data": {
      "text/plain": [
       "[Document(id='7e7c1bdf-acfc-4fca-aff5-10b459db0a39', metadata={'source': '/Users/brianfrechette/Library/Mobile Documents/com~apple~CloudDocs/dev/digital_twin/llm_rag_intro/B_Frechette_Resume.docx'}, page_content='Brian Frechette\\n\\nWest Hartford, CT 06119\\n\\nbrianfrechette1@yahoo.com | (603) 718-2765\\n\\nwww.brianfrechette.me | www.linkedin.com/in/brian-frechette | www.github.com/brianfrechette3\\n\\nEDUCATION\\n\\nUniversity of Pennsylvania – Master of Science in Artificial Intelligence                                                         Online / Philadelphia, PA\\n\\nRelevant coursework: Deep Learning, Natural Language Processing (NLP), GPU Programming, ML                            Jan 2025 – TBD\\n\\nUniversity of Pennsylvania – Master of Science in Computer Information Technology                                Online / Philadelphia, PA\\n\\nRelevant coursework: Software Design, Data Structures, Algorithms, Analytics, Data Science, ML, AI             Aug 2022 – May 2024\\n\\nCumulative GPA: 4.00/4.00\\n\\nUniversity of Connecticut – Bachelor of Science in Engineering                                                                                                    Storrs, CT'),\n",
       " Document(id='ecd96f2a-3213-4310-8b32-3e41e747afb9', metadata={'source': '/Users/brianfrechette/Library/Mobile Documents/com~apple~CloudDocs/dev/digital_twin/llm_rag_intro/B_Frechette_Resume.docx'}, page_content='Major: Mechanical Engineering                                                                                                                                      Aug 2017 – May 2021\\n\\nCumulative GPA: 3.85/4.00\\n\\nHonors: cum laude\\n\\nWORK EXPERIENCE\\n\\nRaytheon Technologies (RTX) - Pratt & Whitney                                                                                                                      East Hartford, CT\\n\\nSenior Analytics Engineer                                                                                                                                                       May 2024 – Present\\n\\nServing as technical lead in a cross-functional project harmonizing several enterprise tools into central platform to decrease tool fragmentation, increase tool scalability, and provide a single source of truth for data outputs'),\n",
       " Document(id='c656c18a-aa6b-4458-956c-8687cebe1622', metadata={'source': '/Users/brianfrechette/Library/Mobile Documents/com~apple~CloudDocs/dev/digital_twin/llm_rag_intro/B_Frechette_Resume.docx'}, page_content='Analytics Engineer II                                                                                                                                                              Jun 2023 – May 2024\\n\\nTrained a random forest machine learning model to predict engine shop visit cost with 90% accuracy for use in maximizing revenue over engine contract\\n\\nRefactored app’s ETL process to reduce runtime by 98% by identifying and replacing inefficient Python code with SQL\\n\\nPerformed engine failure time analysis by fitting field data to Weibull probability distributions to assess engine design improvements relative to their expectation\\n\\nAnalytics Engineer I                                                                                                                                                       Oct 2022 – Jun 2023'),\n",
       " Document(id='5751a02c-a433-49e3-be5b-a56f2496d511', metadata={'source': '/Users/brianfrechette/Library/Mobile Documents/com~apple~CloudDocs/dev/digital_twin/llm_rag_intro/B_Frechette_Resume.docx'}, page_content='Developed analytic to recommend cost-optimized engine work scopes to maintenance engineers by extracting current engine data, work scope benefit estimates, and engine life requirements\\n\\nAutomated process to generate and email engine data report to maintenance engineers when an engine needs maintenance, providing an estimated time savings of 5 hours per engine event\\n\\nLeveraged full-stack software development via Agile, Git, and Django (Python, JavaScript, HTML, ORM) to deploy Python / SQL based analytics, using common data libraries (NumPy, pandas, scikit-learn, SciPy, Matplotlib, seaborn)\\n\\nTriumph Group, Inc.                                                                                                                                                                      West Hartford, CT\\n\\nSystems Engineer II                                                                                                                                                               May 2021 – Oct 2022')]"
      ]
     },
     "execution_count": 36,
     "metadata": {},
     "output_type": "execute_result"
    }
   ],
   "source": [
    "vector_store_from_docs.similarity_search(\"What is Brian's phone number?\")"
   ]
  },
  {
   "cell_type": "code",
   "execution_count": 37,
   "metadata": {},
   "outputs": [
    {
     "data": {
      "text/plain": [
       "[Document(id='7e7c1bdf-acfc-4fca-aff5-10b459db0a39', metadata={'source': '/Users/brianfrechette/Library/Mobile Documents/com~apple~CloudDocs/dev/digital_twin/llm_rag_intro/B_Frechette_Resume.docx'}, page_content='Brian Frechette\\n\\nWest Hartford, CT 06119\\n\\nbrianfrechette1@yahoo.com | (603) 718-2765\\n\\nwww.brianfrechette.me | www.linkedin.com/in/brian-frechette | www.github.com/brianfrechette3\\n\\nEDUCATION\\n\\nUniversity of Pennsylvania – Master of Science in Artificial Intelligence                                                         Online / Philadelphia, PA\\n\\nRelevant coursework: Deep Learning, Natural Language Processing (NLP), GPU Programming, ML                            Jan 2025 – TBD\\n\\nUniversity of Pennsylvania – Master of Science in Computer Information Technology                                Online / Philadelphia, PA\\n\\nRelevant coursework: Software Design, Data Structures, Algorithms, Analytics, Data Science, ML, AI             Aug 2022 – May 2024\\n\\nCumulative GPA: 4.00/4.00\\n\\nUniversity of Connecticut – Bachelor of Science in Engineering                                                                                                    Storrs, CT'),\n",
       " Document(id='ecd96f2a-3213-4310-8b32-3e41e747afb9', metadata={'source': '/Users/brianfrechette/Library/Mobile Documents/com~apple~CloudDocs/dev/digital_twin/llm_rag_intro/B_Frechette_Resume.docx'}, page_content='Major: Mechanical Engineering                                                                                                                                      Aug 2017 – May 2021\\n\\nCumulative GPA: 3.85/4.00\\n\\nHonors: cum laude\\n\\nWORK EXPERIENCE\\n\\nRaytheon Technologies (RTX) - Pratt & Whitney                                                                                                                      East Hartford, CT\\n\\nSenior Analytics Engineer                                                                                                                                                       May 2024 – Present\\n\\nServing as technical lead in a cross-functional project harmonizing several enterprise tools into central platform to decrease tool fragmentation, increase tool scalability, and provide a single source of truth for data outputs'),\n",
       " Document(id='5751a02c-a433-49e3-be5b-a56f2496d511', metadata={'source': '/Users/brianfrechette/Library/Mobile Documents/com~apple~CloudDocs/dev/digital_twin/llm_rag_intro/B_Frechette_Resume.docx'}, page_content='Developed analytic to recommend cost-optimized engine work scopes to maintenance engineers by extracting current engine data, work scope benefit estimates, and engine life requirements\\n\\nAutomated process to generate and email engine data report to maintenance engineers when an engine needs maintenance, providing an estimated time savings of 5 hours per engine event\\n\\nLeveraged full-stack software development via Agile, Git, and Django (Python, JavaScript, HTML, ORM) to deploy Python / SQL based analytics, using common data libraries (NumPy, pandas, scikit-learn, SciPy, Matplotlib, seaborn)\\n\\nTriumph Group, Inc.                                                                                                                                                                      West Hartford, CT\\n\\nSystems Engineer II                                                                                                                                                               May 2021 – Oct 2022'),\n",
       " Document(id='68ea448c-dbdf-482b-a4ca-c0ec6216adf0', metadata={'source': '/Users/brianfrechette/Library/Mobile Documents/com~apple~CloudDocs/dev/digital_twin/llm_rag_intro/B_Frechette_Resume.docx'}, page_content='Developed thermal system models using Engineering Equation Solver (EES) to design and analyze legacy and prototype environmental control systems (ECS) in response to new business requests (RFP, RFQ, RFI)\\n\\nWrangled performance analysis data and generated relevant data visualizations to highlight stakeholders’ key interests\\n\\nCommunicated with external stakeholders to clarify requirements and present current status and final output\\n\\nPROJECTS & ONLINE COURSES\\n\\nMachine Learning Project – Predicting Mortality Rate                                                                                            Personal Project – Kaggle\\n\\nCountry Health Nutrition and Population Dataset.                                                                                                                             April 2024\\n\\nPerformed exploratory data analysis (EDA) to examine data format, data quality, and available features using pandas library')]"
      ]
     },
     "execution_count": 37,
     "metadata": {},
     "output_type": "execute_result"
    }
   ],
   "source": [
    "vector_store_from_docs.similarity_search(\"What technical skills does Brian have?\")"
   ]
  },
  {
   "cell_type": "markdown",
   "metadata": {},
   "source": [
    "### Vector store is loaded up with 6 chunked docs from my resume, let's try using langchains automated RAG features"
   ]
  },
  {
   "cell_type": "code",
   "execution_count": 19,
   "metadata": {},
   "outputs": [],
   "source": [
    "from langchain_openai import ChatOpenAI\n",
    "from langchain.chains import RetrievalQA"
   ]
  },
  {
   "cell_type": "code",
   "execution_count": 20,
   "metadata": {},
   "outputs": [],
   "source": [
    "llm = ChatOpenAI(\n",
    "    openai_api_key=os.environ.get(\"OPENAI_API_KEY\"),\n",
    "    model_name=\"gpt-3.5-turbo\",\n",
    "    temperature=0.0\n",
    ")"
   ]
  },
  {
   "cell_type": "code",
   "execution_count": 21,
   "metadata": {},
   "outputs": [],
   "source": [
    "qa = RetrievalQA.from_chain_type(\n",
    "    llm=llm,\n",
    "    chain_type=\"stuff\",\n",
    "    retriever=vector_store_from_docs.as_retriever()\n",
    ")"
   ]
  },
  {
   "cell_type": "code",
   "execution_count": 22,
   "metadata": {},
   "outputs": [
    {
     "data": {
      "text/plain": [
       "{'query': \"What is Brian's phone number?\",\n",
       " 'result': \"Brian's phone number is (603) 718-2765.\"}"
      ]
     },
     "execution_count": 22,
     "metadata": {},
     "output_type": "execute_result"
    }
   ],
   "source": [
    "qa.invoke(\"What is Brian's phone number?\")"
   ]
  },
  {
   "cell_type": "code",
   "execution_count": 23,
   "metadata": {},
   "outputs": [
    {
     "data": {
      "text/plain": [
       "{'query': \"Can you tell me about Brian's most recent experience?\",\n",
       " 'result': \"Brian's most recent experience is as a Senior Analytics Engineer at Raytheon Technologies (RTX) - Pratt & Whitney in East Hartford, CT. In this role, he serves as a technical lead in a cross-functional project to harmonize several enterprise tools into a central platform. The goal is to decrease tool fragmentation, increase tool scalability, and provide a single source of truth for data outputs. He has been in this position since May 2024.\"}"
      ]
     },
     "execution_count": 23,
     "metadata": {},
     "output_type": "execute_result"
    }
   ],
   "source": [
    "qa.invoke(\"Can you tell me about Brian's most recent experience?\")"
   ]
  },
  {
   "cell_type": "code",
   "execution_count": 43,
   "metadata": {},
   "outputs": [
    {
     "data": {
      "text/plain": [
       "{'query': 'Who does Brian hate?',\n",
       " 'result': \"I don't have any information about who Brian Frechette hates.\"}"
      ]
     },
     "execution_count": 43,
     "metadata": {},
     "output_type": "execute_result"
    }
   ],
   "source": [
    "qa.invoke(\"Who does Brian hate?\")"
   ]
  },
  {
   "cell_type": "code",
   "execution_count": 44,
   "metadata": {},
   "outputs": [
    {
     "data": {
      "text/plain": [
       "{'query': \"What's the best fruit?\", 'result': \"I don't know.\"}"
      ]
     },
     "execution_count": 44,
     "metadata": {},
     "output_type": "execute_result"
    }
   ],
   "source": [
    "qa.invoke(\"What's the best fruit?\")"
   ]
  },
  {
   "cell_type": "code",
   "execution_count": 46,
   "metadata": {},
   "outputs": [
    {
     "data": {
      "text/plain": [
       "{'query': \"What was michael jordan's number?\",\n",
       " 'result': \"Michael Jordan's number was 23.\"}"
      ]
     },
     "execution_count": 46,
     "metadata": {},
     "output_type": "execute_result"
    }
   ],
   "source": [
    "qa.invoke(\"What was michael jordan's number?\")"
   ]
  },
  {
   "cell_type": "code",
   "execution_count": 24,
   "metadata": {},
   "outputs": [
    {
     "data": {
      "text/plain": [
       "{'query': 'Who is Brian?',\n",
       " 'result': 'Brian Frechette is an individual with a background in engineering and analytics. He has pursued education in Artificial Intelligence and Computer Information Technology, with a strong focus on machine learning and data analysis. Brian has worked as an Analytics Engineer at Raytheon Technologies, where he has been involved in projects related to predictive modeling, data analysis, and process optimization.'}"
      ]
     },
     "execution_count": 24,
     "metadata": {},
     "output_type": "execute_result"
    }
   ],
   "source": [
    "qa.invoke(\"Who is Brian?\")"
   ]
  },
  {
   "cell_type": "code",
   "execution_count": 25,
   "metadata": {},
   "outputs": [
    {
     "data": {
      "text/plain": [
       "{'query': 'Why should I hire him?',\n",
       " 'result': \"Based on the provided information, you should consider hiring Brian Frechette because he has a strong background in analytics, machine learning, and software development. He has experience in developing predictive models, optimizing processes, and analyzing data to drive business decisions. Brian's proficiency in Python, SQL, and various data libraries showcases his technical skills. Additionally, his educational background in Artificial Intelligence, Computer Information Technology, and Engineering demonstrates a solid foundation in relevant fields. Overall, Brian's experience, skills, and education make him a valuable candidate for roles that require expertise in analytics, machine learning, and software development.\"}"
      ]
     },
     "execution_count": 25,
     "metadata": {},
     "output_type": "execute_result"
    }
   ],
   "source": [
    "qa.invoke(\"Why should I hire him?\")"
   ]
  }
 ],
 "metadata": {
  "interpreter": {
   "hash": "9eadad9978e1a81f97c233dbdb8845ad19aeb63b6851879d2b13cc93bce333c2"
  },
  "kernelspec": {
   "display_name": "Python 3.9.12 ('base')",
   "language": "python",
   "name": "python3"
  },
  "language_info": {
   "codemirror_mode": {
    "name": "ipython",
    "version": 3
   },
   "file_extension": ".py",
   "mimetype": "text/x-python",
   "name": "python",
   "nbconvert_exporter": "python",
   "pygments_lexer": "ipython3",
   "version": "3.9.12"
  },
  "orig_nbformat": 4
 },
 "nbformat": 4,
 "nbformat_minor": 2
}
